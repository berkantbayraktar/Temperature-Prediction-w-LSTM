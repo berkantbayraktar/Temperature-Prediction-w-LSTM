{
 "cells": [
  {
   "cell_type": "markdown",
   "metadata": {
    "colab_type": "text",
    "id": "view-in-github"
   },
   "source": [
    "<a href=\"https://colab.research.google.com/github/berkantbayraktar/Temperature-Prediction-w-LSTM/blob/master/CENG501_Spring2021_PA3_Task_temperature_prediction_with_LSTM.ipynb\" target=\"_parent\"><img src=\"https://colab.research.google.com/assets/colab-badge.svg\" alt=\"Open In Colab\"/></a>"
   ]
  },
  {
   "cell_type": "markdown",
   "metadata": {
    "id": "mC1WVk2aEykn"
   },
   "source": [
    "# A Sequence Modeling Pipeline with PyTorch for Weather Prediction\n",
    "# CENG501 - Spring 2021 - PA3\n",
    "\n",
    "In this task, you are expected to experience and demonstrate a pipeline for training a recurrent network."
   ]
  },
  {
   "cell_type": "markdown",
   "metadata": {
    "id": "LvBph3MjXWHh"
   },
   "source": [
    "## 1 Import Modules"
   ]
  },
  {
   "cell_type": "code",
   "execution_count": 125,
   "metadata": {
    "id": "7qwlNQ2mXYoN"
   },
   "outputs": [],
   "source": [
    "import torch\n",
    "import torch.nn as nn\n",
    "import time\n",
    "import numpy as np\n",
    "import pandas as pd\n",
    "import matplotlib.pyplot as plt\n",
    "from sklearn.preprocessing import MinMaxScaler"
   ]
  },
  {
   "cell_type": "markdown",
   "metadata": {
    "id": "mAft9BpAFIH4"
   },
   "source": [
    "## 2 Dataset\n",
    "\n",
    "We will use the hourly temperature data for Basel (why Basel? because it was freely available) from [meteoblue](https://www.meteoblue.com/en/weather/archive/export/basel_switzerland_2661604?daterange=2021-06-01%20-%202021-06-23&domain=NEMSAUTO&params%5B%5D=temp2m&min=2021-06-16&max=2021-06-23&utc_offset=2&timeResolution=hourly&temperatureunit=CELSIUS&velocityunit=KILOMETER_PER_HOUR&energyunit=watts&lengthunit=metric&degree_day_type=10%3B30&gddBase=10&gddLimit=30) between 1 June 2021 and 23 June 2021. Here is a description of how you should prepare your dataset from this raw file:\n",
    "\n",
    "* Raw data is available [here](http://kovan.ceng.metu.edu.tr/~sinan/DL/Basel_weather.xlsx) as an XLSX file which was downloaded from [meteoblue](https://www.meteoblue.com/en/weather/archive/export/basel_switzerland_2661604?daterange=2021-06-01%20-%202021-06-23&domain=NEMSAUTO&params%5B%5D=temp2m&min=2021-06-16&max=2021-06-23&utc_offset=2&timeResolution=hourly&temperatureunit=CELSIUS&velocityunit=KILOMETER_PER_HOUR&energyunit=watts&lengthunit=metric&degree_day_type=10%3B30&gddBase=10&gddLimit=30).\n",
    "\n",
    "* Load the file into Python as a NumPy array using [Pandas](https://pp4e-book.github.io/chapters/ch10_scientific_libraries.html#data-handling-analysis-with-pandas). Filter out unnecessary information at the top and convert the first column to an hour index, starting at 0 and finishing at 551.\n",
    "\n",
    "* Split the data into two: A training set from the values between 1 June 2021 and 16 June 2021 (inclusive). A test set from the remaining values.\n",
    "\n",
    "* For each set, slide a time window of six hours and with a stride of 1, and for each position of the window, create a training input-output pair as follows:\n",
    "\n",
    "  $(\\mathbf{x}_i = <T_i, T_{i+1}, T_{i+2}, T_{i+3}, T_{i+4}>, y_i = T_{i+5}),$\n",
    " \n",
    "  where $T_i$ is the temperature at hour index $i$. \n"
   ]
  },
  {
   "cell_type": "code",
   "execution_count": 126,
   "metadata": {},
   "outputs": [],
   "source": [
    "# Load the dataset.\n",
    "df = pd.read_csv(\"data/Basel_weather.csv\")"
   ]
  },
  {
   "cell_type": "code",
   "execution_count": 127,
   "metadata": {},
   "outputs": [],
   "source": [
    "# Clean the dataset\n",
    "df = df[9:]\n",
    "df.reset_index(drop=True, inplace=True)\n",
    "df = df.rename(columns={'location': 'time', 'Basel': 'temperature'})\n",
    "df = df.astype({'temperature': float})"
   ]
  },
  {
   "cell_type": "code",
   "execution_count": 128,
   "metadata": {},
   "outputs": [],
   "source": [
    "# Split the dataset\n",
    "train_df = df[:360]\n",
    "test_df = df[360:]"
   ]
  },
  {
   "cell_type": "code",
   "execution_count": 129,
   "metadata": {},
   "outputs": [
    {
     "data": {
      "text/html": [
       "<div>\n",
       "<style scoped>\n",
       "    .dataframe tbody tr th:only-of-type {\n",
       "        vertical-align: middle;\n",
       "    }\n",
       "\n",
       "    .dataframe tbody tr th {\n",
       "        vertical-align: top;\n",
       "    }\n",
       "\n",
       "    .dataframe thead th {\n",
       "        text-align: right;\n",
       "    }\n",
       "</style>\n",
       "<table border=\"1\" class=\"dataframe\">\n",
       "  <thead>\n",
       "    <tr style=\"text-align: right;\">\n",
       "      <th></th>\n",
       "      <th>time</th>\n",
       "      <th>temperature</th>\n",
       "    </tr>\n",
       "  </thead>\n",
       "  <tbody>\n",
       "    <tr>\n",
       "      <th>355</th>\n",
       "      <td>20210615T1900</td>\n",
       "      <td>28.970530</td>\n",
       "    </tr>\n",
       "    <tr>\n",
       "      <th>356</th>\n",
       "      <td>20210615T2000</td>\n",
       "      <td>28.260529</td>\n",
       "    </tr>\n",
       "    <tr>\n",
       "      <th>357</th>\n",
       "      <td>20210615T2100</td>\n",
       "      <td>27.060530</td>\n",
       "    </tr>\n",
       "    <tr>\n",
       "      <th>358</th>\n",
       "      <td>20210615T2200</td>\n",
       "      <td>25.770529</td>\n",
       "    </tr>\n",
       "    <tr>\n",
       "      <th>359</th>\n",
       "      <td>20210615T2300</td>\n",
       "      <td>24.240528</td>\n",
       "    </tr>\n",
       "  </tbody>\n",
       "</table>\n",
       "</div>"
      ],
      "text/plain": [
       "              time  temperature\n",
       "355  20210615T1900    28.970530\n",
       "356  20210615T2000    28.260529\n",
       "357  20210615T2100    27.060530\n",
       "358  20210615T2200    25.770529\n",
       "359  20210615T2300    24.240528"
      ]
     },
     "execution_count": 129,
     "metadata": {},
     "output_type": "execute_result"
    }
   ],
   "source": [
    "train_df.tail()"
   ]
  },
  {
   "cell_type": "code",
   "execution_count": 130,
   "metadata": {},
   "outputs": [
    {
     "data": {
      "text/html": [
       "<div>\n",
       "<style scoped>\n",
       "    .dataframe tbody tr th:only-of-type {\n",
       "        vertical-align: middle;\n",
       "    }\n",
       "\n",
       "    .dataframe tbody tr th {\n",
       "        vertical-align: top;\n",
       "    }\n",
       "\n",
       "    .dataframe thead th {\n",
       "        text-align: right;\n",
       "    }\n",
       "</style>\n",
       "<table border=\"1\" class=\"dataframe\">\n",
       "  <thead>\n",
       "    <tr style=\"text-align: right;\">\n",
       "      <th></th>\n",
       "      <th>time</th>\n",
       "      <th>temperature</th>\n",
       "    </tr>\n",
       "  </thead>\n",
       "  <tbody>\n",
       "    <tr>\n",
       "      <th>547</th>\n",
       "      <td>20210623T1900</td>\n",
       "      <td>20.850529</td>\n",
       "    </tr>\n",
       "    <tr>\n",
       "      <th>548</th>\n",
       "      <td>20210623T2000</td>\n",
       "      <td>18.860529</td>\n",
       "    </tr>\n",
       "    <tr>\n",
       "      <th>549</th>\n",
       "      <td>20210623T2100</td>\n",
       "      <td>17.820530</td>\n",
       "    </tr>\n",
       "    <tr>\n",
       "      <th>550</th>\n",
       "      <td>20210623T2200</td>\n",
       "      <td>17.190529</td>\n",
       "    </tr>\n",
       "    <tr>\n",
       "      <th>551</th>\n",
       "      <td>20210623T2300</td>\n",
       "      <td>16.560530</td>\n",
       "    </tr>\n",
       "  </tbody>\n",
       "</table>\n",
       "</div>"
      ],
      "text/plain": [
       "              time  temperature\n",
       "547  20210623T1900    20.850529\n",
       "548  20210623T2000    18.860529\n",
       "549  20210623T2100    17.820530\n",
       "550  20210623T2200    17.190529\n",
       "551  20210623T2300    16.560530"
      ]
     },
     "execution_count": 130,
     "metadata": {},
     "output_type": "execute_result"
    }
   ],
   "source": [
    "test_df.tail()"
   ]
  },
  {
   "cell_type": "code",
   "execution_count": 131,
   "metadata": {},
   "outputs": [
    {
     "data": {
      "image/png": "[encoded data removed]",
      "text/plain": [
       "<Figure size 864x288 with 1 Axes>"
      ]
     },
     "metadata": {
      "needs_background": "light"
     },
     "output_type": "display_data"
    }
   ],
   "source": [
    "plt.figure(figsize=(12,4))\n",
    "plt.title('Basel Temperature')\n",
    "plt.ylabel('temperature')\n",
    "plt.xlabel('timestamp')\n",
    "plt.grid(True)\n",
    "plt.autoscale(axis='x',tight=True)\n",
    "plt.plot(train_df['temperature'])\n",
    "plt.plot(test_df['temperature'])\n",
    "plt.show()"
   ]
  },
  {
   "cell_type": "code",
   "execution_count": 132,
   "metadata": {},
   "outputs": [],
   "source": [
    "y_train = train_df['temperature'].values.astype(float)\n",
    "y_test = test_df['temperature'].values.astype(float)"
   ]
  },
  {
   "cell_type": "code",
   "execution_count": 133,
   "metadata": {},
   "outputs": [],
   "source": [
    "# Instantiate a scaler with a feature range from -1 to 1\n",
    "scaler = MinMaxScaler(feature_range=(-1, 1))\n",
    "# Normalize the training set\n",
    "train_norm = scaler.fit_transform(y_train.reshape(-1, 1))"
   ]
  },
  {
   "cell_type": "code",
   "execution_count": 134,
   "metadata": {},
   "outputs": [],
   "source": [
    "# Convert train_norm from an array to a tensor\n",
    "train_norm = torch.FloatTensor(train_norm).view(-1)"
   ]
  },
  {
   "cell_type": "code",
   "execution_count": 135,
   "metadata": {},
   "outputs": [],
   "source": [
    "def generate_data(seq, window_size=6):\n",
    "    data = []\n",
    "    for i in range(len(seq) - window_size + 1):\n",
    "        xi = seq[i:i+window_size-1]\n",
    "        yi = seq[i+window_size-1]\n",
    "        data.append((torch.tensor(xi),torch.tensor(yi)))\n",
    "    return data\n",
    "    "
   ]
  },
  {
   "cell_type": "code",
   "execution_count": 136,
   "metadata": {},
   "outputs": [
    {
     "name": "stdout",
     "output_type": "stream",
     "text": [
      "len train_data :  355\n"
     ]
    },
    {
     "name": "stderr",
     "output_type": "stream",
     "text": [
      "/home/bbayraktar/anaconda3/envs/pytorch-jupyter/lib/python3.7/site-packages/ipykernel_launcher.py:6: UserWarning: To copy construct from a tensor, it is recommended to use sourceTensor.clone().detach() or sourceTensor.clone().detach().requires_grad_(True), rather than torch.tensor(sourceTensor).\n",
      "  \n"
     ]
    }
   ],
   "source": [
    "train_data = generate_data(train_norm)\n",
    "print(\"len train_data : \", len(train_data))"
   ]
  },
  {
   "cell_type": "code",
   "execution_count": 137,
   "metadata": {
    "id": "Loar-pkwQf1M"
   },
   "outputs": [],
   "source": [
    "# Write your code here\n",
    "# If you like, you can create subsections here and split your code into \n",
    "# meaningfully separate parts, e.g. \"Loading the dataset\", \"Cleaning the dataset\",\n",
    "# \"Splitting the dataset\".."
   ]
  },
  {
   "cell_type": "markdown",
   "metadata": {
    "id": "Q9eN7WAcFKYC"
   },
   "source": [
    "## 3 Your LSTM Definition\n",
    "\n",
    "Implement your own LSTM \"cell\" using PyTorch without using PyTorch's LSTM implementation. However, you can use the backpropagation mechanism of PyTorch and therefore, you just need to worry about the feedforward processing.\n",
    "\n",
    "Your implementation should not be limited to the weather prediction problem and be general. For the sake of simplicity, you can just implement a single-layer LSTM cell."
   ]
  },
  {
   "cell_type": "code",
   "execution_count": 138,
   "metadata": {
    "id": "xYYD_dO3RI6U"
   },
   "outputs": [],
   "source": [
    "# Your LSTM Definition \n",
    "import torch\n",
    "class MyLSTM(torch.nn.Module):\n",
    "    def __init__(self, input_size, hidden_size):\n",
    "        \"\"\"\n",
    "          input_size: the size of the input at a time step.\n",
    "          hidden_size: the number of neurons in the hidden state.\n",
    "        \"\"\"\n",
    "        super().__init__()\n",
    "\n",
    "        ## @TODO: Create parameters in LSTM and initialize them\n",
    "        pass \n",
    "    \n",
    "    def forward(self, X):\n",
    "        \"\"\"\n",
    "          X: A batch of sequences where each sequence has L time steps and for each time step, \n",
    "          it has input_size many elements. Has shape (B, L, input_size) with B being \n",
    "          the batch size.\n",
    "\n",
    "          Output: Tuple (h, c) where h is the tensor holding the hidden state for L\n",
    "          time steps, and c is the tensor holding the memory state for L time steps. \n",
    "          Both have shape (B, L, hidden_size).\n",
    "        \"\"\"\n",
    "        ## @TODO: Process X over L timesteps and return the output\n",
    "        pass"
   ]
  },
  {
   "cell_type": "markdown",
   "metadata": {
    "id": "ej7EMhi_FOZS"
   },
   "source": [
    "## 4 Your Sequence Model"
   ]
  },
  {
   "cell_type": "code",
   "execution_count": 139,
   "metadata": {
    "id": "8ZjnU5VTUZxG"
   },
   "outputs": [],
   "source": [
    "class MyWeatherPredictor(torch.nn.Module):\n",
    "\n",
    "    def __init__(self, input_dim, hidden_dim, out_dim=1):\n",
    "        super().__init__()\n",
    "        np.random.seed(501)\n",
    "        torch.manual_seed(501)\n",
    "        \n",
    "        self.hidden_size = hidden_dim\n",
    "        \n",
    "        # Add an LSTM layer:\n",
    "        self.lstm = nn.LSTM(input_dim,hidden_dim)\n",
    "        \n",
    "        # Add a fully-connected layer:\n",
    "        self.linear = nn.Linear(hidden_dim,out_dim)\n",
    "        \n",
    "        # Initialize h0 and c0:\n",
    "        self.hidden = (torch.zeros(1,1,hidden_dim),\n",
    "                       torch.zeros(1,1,hidden_dim))\n",
    "\n",
    "        # @TODO: Create an instance of your LSTM model and a FC layer\n",
    "        # that maps the last hidden state to the output that you wish to \n",
    "        # estimate\n",
    "        \n",
    "\n",
    "    def forward(self, X):\n",
    "        # @TODO: Forward pass through LSTM and FC layer to estimate\n",
    "        # the target\n",
    "        lstm_out, self.hidden = self.lstm(\n",
    "            X.view(len(X), 1, -1), self.hidden)\n",
    "        prediction = self.linear(lstm_out.view(len(X),-1))[-1]\n",
    "        return prediction"
   ]
  },
  {
   "cell_type": "markdown",
   "metadata": {
    "id": "7aSiszOcFRpz"
   },
   "source": [
    "## 5 Your Trainer\n",
    "\n",
    "Implement your training function here. You can use functions we have defined in the previous assignments."
   ]
  },
  {
   "cell_type": "markdown",
   "metadata": {
    "id": "CfS43qOMFUSL"
   },
   "source": [
    "## 6 Train Your Model\n",
    "\n",
    "Create an instance of your model, a suitable loss function, a suitable optimizer and call the training function with suitable hyperparameters (learning rate, batch size, hidden size etc.)."
   ]
  },
  {
   "cell_type": "code",
   "execution_count": 140,
   "metadata": {
    "id": "OxGwItkQV1hT"
   },
   "outputs": [
    {
     "name": "stderr",
     "output_type": "stream",
     "text": [
      "/home/bbayraktar/anaconda3/envs/pytorch-jupyter/lib/python3.7/site-packages/torch/nn/modules/loss.py:528: UserWarning: Using a target size (torch.Size([])) that is different to the input size (torch.Size([1])). This will likely lead to incorrect results due to broadcasting. Please ensure they have the same size.\n",
      "  return F.mse_loss(input, target, reduction=self.reduction)\n"
     ]
    },
    {
     "name": "stdout",
     "output_type": "stream",
     "text": [
      "Epoch:  1 Loss: 0.00102341\n",
      "Epoch:  2 Loss: 0.00563561\n",
      "Epoch:  3 Loss: 0.02679177\n",
      "Epoch:  4 Loss: 0.04292702\n",
      "Epoch:  5 Loss: 0.04911541\n",
      "Epoch:  6 Loss: 0.05038243\n",
      "Epoch:  7 Loss: 0.04989696\n",
      "Epoch:  8 Loss: 0.04883597\n",
      "Epoch:  9 Loss: 0.04758163\n",
      "Epoch: 10 Loss: 0.04625352\n",
      "Epoch: 11 Loss: 0.04488795\n",
      "Epoch: 12 Loss: 0.04349508\n",
      "Epoch: 13 Loss: 0.04207626\n",
      "Epoch: 14 Loss: 0.04063026\n",
      "Epoch: 15 Loss: 0.03915481\n",
      "Epoch: 16 Loss: 0.03764750\n",
      "Epoch: 17 Loss: 0.03610591\n",
      "Epoch: 18 Loss: 0.03452827\n",
      "Epoch: 19 Loss: 0.03291338\n",
      "Epoch: 20 Loss: 0.03126109\n",
      "Epoch: 21 Loss: 0.02957270\n",
      "Epoch: 22 Loss: 0.02785109\n",
      "Epoch: 23 Loss: 0.02610113\n",
      "Epoch: 24 Loss: 0.02433011\n",
      "Epoch: 25 Loss: 0.02254762\n",
      "Epoch: 26 Loss: 0.02076564\n",
      "Epoch: 27 Loss: 0.01899851\n",
      "Epoch: 28 Loss: 0.01726231\n",
      "Epoch: 29 Loss: 0.01557426\n",
      "Epoch: 30 Loss: 0.01395187\n",
      "Epoch: 31 Loss: 0.01241182\n",
      "Epoch: 32 Loss: 0.01096906\n",
      "Epoch: 33 Loss: 0.00963566\n",
      "Epoch: 34 Loss: 0.00842023\n",
      "Epoch: 35 Loss: 0.00732740\n",
      "Epoch: 36 Loss: 0.00635772\n",
      "Epoch: 37 Loss: 0.00550806\n",
      "Epoch: 38 Loss: 0.00477218\n",
      "Epoch: 39 Loss: 0.00414146\n",
      "Epoch: 40 Loss: 0.00360581\n",
      "Epoch: 41 Loss: 0.00315440\n",
      "Epoch: 42 Loss: 0.00277640\n",
      "Epoch: 43 Loss: 0.00246146\n",
      "Epoch: 44 Loss: 0.00220001\n",
      "Epoch: 45 Loss: 0.00198357\n",
      "Epoch: 46 Loss: 0.00180467\n",
      "Epoch: 47 Loss: 0.00165695\n",
      "Epoch: 48 Loss: 0.00153503\n",
      "Epoch: 49 Loss: 0.00143439\n",
      "Epoch: 50 Loss: 0.00135130\n",
      "\n",
      "Duration: 19 seconds\n"
     ]
    }
   ],
   "source": [
    "torch.manual_seed(501)\n",
    "model = MyWeatherPredictor(1,100)\n",
    "criterion = nn.MSELoss()\n",
    "optimizer = torch.optim.SGD(model.parameters(), lr=0.01)\n",
    "\n",
    "epochs = 50\n",
    "loss_values = []\n",
    "start_time = time.time()\n",
    "for i in range(epochs):\n",
    "    \n",
    "    # tuple-unpack the train_data set\n",
    "    for seq, y_train in train_data:\n",
    "        \n",
    "        # reset the parameters and hidden states\n",
    "        optimizer.zero_grad()\n",
    "        model.hidden = (torch.zeros(1,1,model.hidden_size),\n",
    "                        torch.zeros(1,1,model.hidden_size))\n",
    "        \n",
    "        y_pred = model(seq)\n",
    "        \n",
    "        loss = criterion(y_pred, y_train)\n",
    "        \n",
    "        loss.backward()\n",
    "        optimizer.step()\n",
    "    loss_values.append(loss.item())\n",
    "    # print training result\n",
    "    print(f'Epoch: {i+1:2} Loss: {loss.item():10.8f}')\n",
    "\n",
    "print(f'\\nDuration: {time.time() - start_time:.0f} seconds')"
   ]
  },
  {
   "cell_type": "code",
   "execution_count": 141,
   "metadata": {},
   "outputs": [
    {
     "name": "stdout",
     "output_type": "stream",
     "text": [
      "   400\n",
      " 40000\n",
      "   400\n",
      "   400\n",
      "   100\n",
      "     1\n",
      "______\n",
      " 41301\n"
     ]
    }
   ],
   "source": [
    "def count_parameters(model):\n",
    "    params = [p.numel() for p in model.parameters() if p.requires_grad]\n",
    "    for item in params:\n",
    "        print(f'{item:>6}')\n",
    "    print(f'______\\n{sum(params):>6}')\n",
    "    \n",
    "count_parameters(model)"
   ]
  },
  {
   "cell_type": "markdown",
   "metadata": {
    "id": "2f1DoS6hFXBi"
   },
   "source": [
    "## 7 Analyze the Results"
   ]
  },
  {
   "cell_type": "markdown",
   "metadata": {
    "id": "qgL-j3vNFZQF"
   },
   "source": [
    "### 7.1 Visualize the Loss Curve"
   ]
  },
  {
   "cell_type": "code",
   "execution_count": 142,
   "metadata": {
    "id": "0qTDQ4zyV3Fd"
   },
   "outputs": [
    {
     "data": {
      "image/png": "[encoded data removed]",
      "text/plain": [
       "<Figure size 864x288 with 1 Axes>"
      ]
     },
     "metadata": {
      "needs_background": "light"
     },
     "output_type": "display_data"
    }
   ],
   "source": [
    "plt.figure(figsize=(12,4))\n",
    "plt.title('Train Loss Curve')\n",
    "plt.ylabel('train_loss')\n",
    "plt.xlabel('number of epoch')\n",
    "plt.grid(True)\n",
    "plt.autoscale(axis='x',tight=True)\n",
    "plt.plot(loss_values)\n",
    "plt.show()"
   ]
  },
  {
   "cell_type": "markdown",
   "metadata": {
    "id": "5FhKN8bWFfDC"
   },
   "source": [
    "### 7.2 Quantitative Analysis\n",
    "\n",
    "Provide a quantitative analysis of your model on the test set using root mean squared error."
   ]
  },
  {
   "cell_type": "code",
   "execution_count": null,
   "metadata": {
    "id": "uHt0PJbdV5CW"
   },
   "outputs": [],
   "source": [
    "# Your implementation comes here\n",
    "\n",
    "pass"
   ]
  },
  {
   "cell_type": "markdown",
   "metadata": {
    "id": "2FvUOfTiFh4x"
   },
   "source": [
    "### 7.3 Qualitative Analysis\n",
    "\n",
    "Plot test data and your predictions over a sliding window. Plot two versions of your predictions: (i) Window sliding on the test data and you plot the predictions only. (ii) After obtaining the first prediction on the test data, window sliding over the predictions."
   ]
  },
  {
   "cell_type": "code",
   "execution_count": null,
   "metadata": {
    "id": "BuzwFvd7V5rU"
   },
   "outputs": [],
   "source": [
    "# Your implementation comes here\n",
    "\n",
    "pass"
   ]
  },
  {
   "cell_type": "markdown",
   "metadata": {
    "id": "4sga8XVbNHUf"
   },
   "source": [
    "## 8 Tune Your Model\n",
    "\n",
    "Tune the following aspects for your model and provide a figure or a table in each case:\n",
    "\n",
    "- Number of hidden neurons.\n",
    "- Learning rate.\n",
    "- Batch size.\n",
    "\n",
    "Report the performance of the best model after tuning."
   ]
  }
 ],
 "metadata": {
  "colab": {
   "collapsed_sections": [],
   "include_colab_link": true,
   "name": "CENG501 - Spring2021 - PA3 - Task - temperature prediction with LSTM.ipynb",
   "provenance": [],
   "toc_visible": true
  },
  "kernelspec": {
   "display_name": "Python 3",
   "language": "python",
   "name": "python3"
  },
  "language_info": {
   "codemirror_mode": {
    "name": "ipython",
    "version": 3
   },
   "file_extension": ".py",
   "mimetype": "text/x-python",
   "name": "python",
   "nbconvert_exporter": "python",
   "pygments_lexer": "ipython3",
   "version": "3.7.10"
  }
 },
 "nbformat": 4,
 "nbformat_minor": 1
}
